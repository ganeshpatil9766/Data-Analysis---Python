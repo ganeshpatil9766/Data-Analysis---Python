{
 "cells": [
  {
   "cell_type": "code",
   "execution_count": 18,
   "metadata": {},
   "outputs": [],
   "source": [
    "from bs4 import BeautifulSoup\n",
    "import sys\n",
    "import requests\n",
    "import urllib.request\n",
    "import pandas as pd\n",
    "from urllib.request import urlopen,urlparse, Request,HTTPError\n",
    "import re\n",
    "import numpy as np\n",
    "import pandas as pd\n",
    "import csv\n",
    "import json"
   ]
  },
  {
   "cell_type": "code",
   "execution_count": null,
   "metadata": {},
   "outputs": [],
   "source": [
    "link= 'https://shop.ee.co.uk/mobile-phones/pay-monthly/iphone-se-5g/details?color=Midnight&capacity=64GB'\n",
    "url = requests.get(link) \n",
    "soup = BeautifulSoup(url.content, \"html.parser\") \n",
    " \n",
    "print(soup.title.string) # Web Scraping API & Data Extraction - ZenRows"
   ]
  },
  {
   "cell_type": "code",
   "execution_count": null,
   "metadata": {},
   "outputs": [],
   "source": []
  },
  {
   "cell_type": "code",
   "execution_count": null,
   "metadata": {},
   "outputs": [],
   "source": [
    "# get the model name\n",
    "model_name=[]\n",
    "models = soup.find('h1', {'h3 font-rubrik text-truncate-lines-5 text-left-md text-center' }).text\n",
    "model_name.append(models)\n",
    "print(model_name)"
   ]
  },
  {
   "cell_type": "code",
   "execution_count": 9,
   "metadata": {},
   "outputs": [
    {
     "name": "stdout",
     "output_type": "stream",
     "text": [
      "Apple iPhone SE 5G with A15 Bionic chip and brilliant longer battery life. iPhone SE 5G colours - Midnight, Starlight and (PRODUCT)RED.\n"
     ]
    }
   ],
   "source": [
    "# get the model_description\n",
    "model_description = []\n",
    "model_descr = soup.find('p', {'margin-top-1' }).text\n",
    "model_description.append(model_descr)\n",
    "print(model_descr)"
   ]
  },
  {
   "cell_type": "code",
   "execution_count": null,
   "metadata": {},
   "outputs": [],
   "source": [
    "# get the model name\n",
    "savepart = soup.find('strong', {'card-label theme--fog text-light text-center' }).text\n",
    "print(savepart)"
   ]
  },
  {
   "cell_type": "code",
   "execution_count": null,
   "metadata": {},
   "outputs": [],
   "source": [
    "# # get the model name\n",
    "# campera_mp = soup.find('div', {'display-inline-block padding-bottom-0 padding-right-4 margin-right-3 margin-bottom-md-2 colour-coal small border-right-md border-right-xs border-right-xxs' })\n",
    "# campera_mp = campera_mp.text.split('\\xa0')[1]\n",
    "# campera_mp"
   ]
  },
  {
   "cell_type": "code",
   "execution_count": null,
   "metadata": {},
   "outputs": [],
   "source": []
  },
  {
   "cell_type": "code",
   "execution_count": null,
   "metadata": {},
   "outputs": [],
   "source": [
    "details1 = soup.find_all('div', {'class': 'display-inline-block padding-bottom-0 padding-right-4 margin-right-3 margin-bottom-md-2 colour-coal small border-right-md border-right-xs border-right-xxs'})\n",
    "all_item = []\n",
    "\n",
    "for allContainers in details1:\n",
    "#     print(allContainers.get('data-content-bulletpoint-id'))\n",
    "    all_item.append(allContainers.get('data-content-bulletpoint-id'))\n",
    "\n",
    "all_item"
   ]
  },
  {
   "cell_type": "code",
   "execution_count": null,
   "metadata": {},
   "outputs": [],
   "source": [
    "# soup.find_all('div', {'class': 'form__check'})\n",
    "# soup.find_all('span', {'class': 'assistive-text'})\n",
    "\n",
    "# soup.find_all('div', {'class': 'form__check'})"
   ]
  },
  {
   "cell_type": "code",
   "execution_count": null,
   "metadata": {},
   "outputs": [],
   "source": [
    "# colors\n",
    "colors=soup.find('div', {'class': 'm39-plan-card__colour-nav flex-justify-start flex-row margin-top-2 margin-bottom-0'}).text\n",
    "colors = colors.split('Colour')[1:]\n",
    "colors"
   ]
  },
  {
   "cell_type": "code",
   "execution_count": null,
   "metadata": {},
   "outputs": [],
   "source": [
    "# All Staorage\n",
    "storage = []\n",
    "allstorage = soup.find_all('div', {'class': 'm17-nav-item padding-0 margin-0 display-inline-block'})\n",
    "\n",
    "for stor in allstorage:\n",
    "#     print(storage)\n",
    "#     print(storage.get('assistive-text'))\n",
    "    storage.append(stor.find('span',class_='assistive-text').text.split('Capacity ')[1])\n",
    "    \n",
    "#     all_item.append(allContainers.get('data-content-bulletpoint-id'))\n",
    "\n",
    "storage"
   ]
  },
  {
   "cell_type": "code",
   "execution_count": null,
   "metadata": {
    "scrolled": true
   },
   "outputs": [],
   "source": []
  },
  {
   "cell_type": "code",
   "execution_count": null,
   "metadata": {
    "scrolled": false
   },
   "outputs": [],
   "source": [
    "# plans\n",
    "allplans = []\n",
    "d = list()\n",
    "extract_plans=soup.find_all('div', {'class': 'margin-top-bottom-2'})\n",
    "# len(extract_plans)\n",
    "# extract_plans = list(extract_plans[0])\n",
    "\n",
    "for extract_plans in extract_plans:\n",
    "#     print(extract_plans)\n",
    "    aa = extract_plans.find_all('div', {'class': 'container width-100-perc'})[0]\n",
    "#     print(aa)\n",
    "    \n",
    "    \n",
    "    \n",
    "    for a in aa:   \n",
    "        xs_4= a.find_all('span', {'class': 'assistive-text'})\n",
    "#         print(xs_4)\n",
    "        \n",
    "        t = []\n",
    "        for xs_4 in xs_4:\n",
    "            d1 = xs_4.text.replace(u'\\xa0', u'')\n",
    "            t.append(d1)\n",
    "            \n",
    "        allplans.append(t)\n",
    "             \n",
    "allplans"
   ]
  },
  {
   "cell_type": "markdown",
   "metadata": {},
   "source": [
    "# Final Table\n"
   ]
  },
  {
   "cell_type": "code",
   "execution_count": null,
   "metadata": {
    "scrolled": true
   },
   "outputs": [],
   "source": [
    "# # get all links\n",
    "# parser = 'html.parser'  # or 'lxml' (preferred) or 'html5lib', if installed\n",
    "# resp = urllib.request.urlopen(\"https://shop.ee.co.uk/mobile-phones/pay-monthly/\")\n",
    "# soup = BeautifulSoup(resp, parser) # , from_encoding=resp.info().get_param('charset')\n",
    "# # get the model list\n",
    "# linklist=[]\n",
    "# for line in soup.find_all('a'):\n",
    "    \n",
    "#     linklist1 = line.get('href')\n",
    "#     linklist.append(linklist1)\n",
    "    \n",
    "# # linklist = ['https://shop.ee.co.uk/mobile-phones/pay-monthly/iphone-se-5g/details?color=Midnight&capacity=64GB']\n",
    "# linklist "
   ]
  },
  {
   "cell_type": "code",
   "execution_count": 2,
   "metadata": {},
   "outputs": [
    {
     "data": {
      "text/plain": [
       "['https://shop.ee.co.uk/mobile-phones/pay-monthly/iphone-se-5g/details?color=Midnight&capacity=64GB']"
      ]
     },
     "execution_count": 2,
     "metadata": {},
     "output_type": "execute_result"
    }
   ],
   "source": [
    "all_links = ['https://shop.ee.co.uk/mobile-phones/pay-monthly/iphone-se-5g/details?color=Midnight&capacity=64GB']\n",
    "all_links"
   ]
  },
  {
   "cell_type": "code",
   "execution_count": 3,
   "metadata": {},
   "outputs": [],
   "source": [
    "model_name=[]\n",
    "model_description = []"
   ]
  },
  {
   "cell_type": "code",
   "execution_count": 129,
   "metadata": {},
   "outputs": [
    {
     "name": "stdout",
     "output_type": "stream",
     "text": [
      "{'model_name': ['iPhone SE 5G'], 'model_description': 'Apple iPhone SE 5G with A15 Bionic chip and brilliant longer battery life. iPhone SE 5G colours - Midnight, Starlight and (PRODUCT)RED.', 'discount': ['Save £96 with trade in'], 'pixel': '12.0 mp', 'screen_size': '4.7\"', 'bettery_backup': '15 hours', 'colors': [' Midnight', ' Starlight', ' (PRODUCT)RED'], 'storage': ['64GB', '128GB', '256GB'], 'plans': [['40GB data', '£40', '£39'], ['1GB data', '£90', '£29'], ['4GB data', '£40', '£33'], ['100GB data', '£10', '£41'], ['Unlimited data', '£10', '£44'], ['4GB data', '£40', '£38'], ['40GB data', '£40', '£44'], ['100GB data', '£10', '£46'], ['Unlimited data', '£10', '£53'], ['Unlimited data', '£10', '£57']]}\n"
     ]
    }
   ],
   "source": [
    "all_values= []\n",
    "model_name=[]\n",
    "model_description = []\n",
    "discount = []\n",
    "storage = []\n",
    "allplans = []\n",
    "d = list()\n",
    "\n",
    "\n",
    "for i_link in all_links:\n",
    "    url = requests.get(i_link) \n",
    "    soup = BeautifulSoup(url.content, \"html.parser\") \n",
    "#     print(soup.title.string)\n",
    "    \n",
    "    models = soup.find('h1', {'h3 font-rubrik text-truncate-lines-5 text-left-md text-center' }).text\n",
    "    model_name.append(models)\n",
    "    \n",
    "    model_descr = soup.find('p', {'margin-top-1' }).text\n",
    "    model_description.append(model_descr)\n",
    "    \n",
    "    savepart = soup.find('strong', {'card-label theme--fog text-light text-center' }).text\n",
    "    discount.append(savepart)\n",
    "    \n",
    "    \n",
    "    \n",
    "    all_values = {'model_name':model_name,\n",
    "                 'model_description':' '.join([str(elem) for elem in model_description]),\n",
    "                 'discount':discount}\n",
    "      \n",
    "    \n",
    "    details1 = soup.find_all('div', {'class': 'display-inline-block padding-bottom-0 padding-right-4 margin-right-3 margin-bottom-md-2 colour-coal small border-right-md border-right-xs border-right-xxs'})\n",
    "    all_item = []\n",
    "    \n",
    "    for allContainers in details1:\n",
    "        all_item.append(allContainers.get('data-content-bulletpoint-id'))\n",
    "    \n",
    "    all_values[\"pixel\"]=all_item[0]\n",
    "    all_values[\"screen_size\"]=all_item[1]\n",
    "    all_values[\"bettery_backup\"]=all_item[2]\n",
    "    \n",
    "    colors=soup.find('div', {'class': 'm39-plan-card__colour-nav flex-justify-start flex-row margin-top-2 margin-bottom-0'}).text\n",
    "    colors = colors.split('Colour')[1:]\n",
    "    \n",
    "    all_values[\"colors\"]=list(colors)\n",
    "    \n",
    "    \n",
    "    allstorage = soup.find_all('div', {'class': 'm17-nav-item padding-0 margin-0 display-inline-block'})\n",
    "    for stor in allstorage:\n",
    "        storage.append(stor.find('span',class_='assistive-text').text.split('Capacity ')[1])\n",
    "\n",
    "    all_values[\"storage\"]=list(storage)\n",
    "    \n",
    "    \n",
    "    extract_plans=soup.find_all('div', {'class': 'margin-top-bottom-2'})\n",
    "    for extract_plans in extract_plans:\n",
    "        aa = extract_plans.find_all('div', {'class': 'container width-100-perc'})[0]\n",
    "\n",
    "    \n",
    "    \n",
    "    \n",
    "        for a in aa:   \n",
    "            xs_4= a.find_all('span', {'class': 'assistive-text'})\n",
    "            t = []\n",
    "            for xs_4 in xs_4:\n",
    "                d1 = xs_4.text.replace(u'\\xa0', u'')\n",
    "                t.append(d1)\n",
    "\n",
    "            allplans.append(t)\n",
    "    \n",
    "    all_values[\"plans\"]=list(allplans)\n",
    "    \n",
    "print(all_values)\n",
    "# print(allplans)"
   ]
  },
  {
   "cell_type": "code",
   "execution_count": null,
   "metadata": {},
   "outputs": [],
   "source": []
  },
  {
   "cell_type": "markdown",
   "metadata": {},
   "source": [
    "# trial for seperating columns "
   ]
  },
  {
   "cell_type": "code",
   "execution_count": 128,
   "metadata": {
    "scrolled": true
   },
   "outputs": [
    {
     "ename": "AttributeError",
     "evalue": "'DataFrame' object has no attribute 'repeat'",
     "output_type": "error",
     "traceback": [
      "\u001b[1;31m---------------------------------------------------------------------------\u001b[0m",
      "\u001b[1;31mAttributeError\u001b[0m                            Traceback (most recent call last)",
      "\u001b[1;32m<ipython-input-128-283319e6242f>\u001b[0m in \u001b[0;36m<module>\u001b[1;34m\u001b[0m\n\u001b[0;32m     45\u001b[0m     \u001b[0mcolors\u001b[0m \u001b[1;33m=\u001b[0m \u001b[0mcolors\u001b[0m\u001b[1;33m.\u001b[0m\u001b[0msplit\u001b[0m\u001b[1;33m(\u001b[0m\u001b[1;34m'Colour'\u001b[0m\u001b[1;33m)\u001b[0m\u001b[1;33m[\u001b[0m\u001b[1;36m1\u001b[0m\u001b[1;33m:\u001b[0m\u001b[1;33m]\u001b[0m\u001b[1;33m\u001b[0m\u001b[1;33m\u001b[0m\u001b[0m\n\u001b[0;32m     46\u001b[0m \u001b[1;31m#     print(len(colors))\u001b[0m\u001b[1;33m\u001b[0m\u001b[1;33m\u001b[0m\u001b[1;33m\u001b[0m\u001b[0m\n\u001b[1;32m---> 47\u001b[1;33m     \u001b[0mprint\u001b[0m\u001b[1;33m(\u001b[0m\u001b[0mall_values\u001b[0m\u001b[1;33m.\u001b[0m\u001b[0mrepeat\u001b[0m\u001b[1;33m(\u001b[0m\u001b[0mlen\u001b[0m\u001b[1;33m(\u001b[0m\u001b[0mcolors\u001b[0m\u001b[1;33m)\u001b[0m\u001b[1;33m)\u001b[0m\u001b[1;33m)\u001b[0m\u001b[1;33m\u001b[0m\u001b[1;33m\u001b[0m\u001b[0m\n\u001b[0m\u001b[0;32m     48\u001b[0m \u001b[1;33m\u001b[0m\u001b[0m\n\u001b[0;32m     49\u001b[0m \u001b[1;33m\u001b[0m\u001b[0m\n",
      "\u001b[1;32m~\\anaconda3\\lib\\site-packages\\pandas\\core\\generic.py\u001b[0m in \u001b[0;36m__getattr__\u001b[1;34m(self, name)\u001b[0m\n\u001b[0;32m   5272\u001b[0m             \u001b[1;32mif\u001b[0m \u001b[0mself\u001b[0m\u001b[1;33m.\u001b[0m\u001b[0m_info_axis\u001b[0m\u001b[1;33m.\u001b[0m\u001b[0m_can_hold_identifiers_and_holds_name\u001b[0m\u001b[1;33m(\u001b[0m\u001b[0mname\u001b[0m\u001b[1;33m)\u001b[0m\u001b[1;33m:\u001b[0m\u001b[1;33m\u001b[0m\u001b[1;33m\u001b[0m\u001b[0m\n\u001b[0;32m   5273\u001b[0m                 \u001b[1;32mreturn\u001b[0m \u001b[0mself\u001b[0m\u001b[1;33m[\u001b[0m\u001b[0mname\u001b[0m\u001b[1;33m]\u001b[0m\u001b[1;33m\u001b[0m\u001b[1;33m\u001b[0m\u001b[0m\n\u001b[1;32m-> 5274\u001b[1;33m             \u001b[1;32mreturn\u001b[0m \u001b[0mobject\u001b[0m\u001b[1;33m.\u001b[0m\u001b[0m__getattribute__\u001b[0m\u001b[1;33m(\u001b[0m\u001b[0mself\u001b[0m\u001b[1;33m,\u001b[0m \u001b[0mname\u001b[0m\u001b[1;33m)\u001b[0m\u001b[1;33m\u001b[0m\u001b[1;33m\u001b[0m\u001b[0m\n\u001b[0m\u001b[0;32m   5275\u001b[0m \u001b[1;33m\u001b[0m\u001b[0m\n\u001b[0;32m   5276\u001b[0m     \u001b[1;32mdef\u001b[0m \u001b[0m__setattr__\u001b[0m\u001b[1;33m(\u001b[0m\u001b[0mself\u001b[0m\u001b[1;33m,\u001b[0m \u001b[0mname\u001b[0m\u001b[1;33m:\u001b[0m \u001b[0mstr\u001b[0m\u001b[1;33m,\u001b[0m \u001b[0mvalue\u001b[0m\u001b[1;33m)\u001b[0m \u001b[1;33m->\u001b[0m \u001b[1;32mNone\u001b[0m\u001b[1;33m:\u001b[0m\u001b[1;33m\u001b[0m\u001b[1;33m\u001b[0m\u001b[0m\n",
      "\u001b[1;31mAttributeError\u001b[0m: 'DataFrame' object has no attribute 'repeat'"
     ]
    }
   ],
   "source": [
    "# all_values= []\n",
    "# model_name=[]\n",
    "# model_description = []\n",
    "# discount = []\n",
    "# storage = []\n",
    "# allplans = []\n",
    "# d = list()\n",
    "\n",
    "\n",
    "# for i_link in all_links:\n",
    "#     url = requests.get(i_link) \n",
    "#     soup = BeautifulSoup(url.content, \"html.parser\") \n",
    "# #     print(soup.title.string)\n",
    "    \n",
    "#     models = soup.find('h1', {'h3 font-rubrik text-truncate-lines-5 text-left-md text-center' }).text\n",
    "#     model_name.append(models)\n",
    "    \n",
    "#     model_descr = soup.find('p', {'margin-top-1' }).text\n",
    "#     model_description.append(model_descr)\n",
    "    \n",
    "#     savepart = soup.find('strong', {'card-label theme--fog text-light text-center' }).text\n",
    "#     discount.append(savepart)\n",
    "    \n",
    "    \n",
    "    \n",
    "#     all_values = {'model_name':model_name,\n",
    "#                  'model_description':' '.join([str(elem) for elem in model_description]),\n",
    "#                  'discount':discount}\n",
    "      \n",
    "    \n",
    "#     details1 = soup.find_all('div', {'class': 'display-inline-block padding-bottom-0 padding-right-4 margin-right-3 margin-bottom-md-2 colour-coal small border-right-md border-right-xs border-right-xxs'})\n",
    "#     all_item = []\n",
    "    \n",
    "#     for allContainers in details1:\n",
    "#         all_item.append(allContainers.get('data-content-bulletpoint-id'))\n",
    "    \n",
    "#     all_values[\"pixel\"]=all_item[0]\n",
    "#     all_values[\"screen_size\"]=all_item[1]\n",
    "#     all_values[\"bettery_backup\"]=all_item[2]\n",
    "\n",
    "#     all_values= pd.DataFrame(all_values)\n",
    "# #     print(all_values)\n",
    "    \n",
    "#     colors=soup.find('div', {'class': 'm39-plan-card__colour-nav flex-justify-start flex-row margin-top-2 margin-bottom-0'}).text\n",
    "#     colors = colors.split('Colour')[1:]\n",
    "# #     print(len(colors))\n",
    "#     print(all_values.repeat(len(colors)))\n",
    "    \n",
    "   \n",
    "\n",
    "    \n",
    "    \n",
    "    \n",
    "# #     allstorage = soup.find_all('div', {'class': 'm17-nav-item padding-0 margin-0 display-inline-block'})\n",
    "# #     for stor in allstorage:\n",
    "# #         storage.append(stor.find('span',class_='assistive-text').text.split('Capacity ')[1])\n",
    "\n",
    "# #     all_values[\"storage\"]=list(storage)\n",
    "    \n",
    "    \n",
    "# #     extract_plans=soup.find_all('div', {'class': 'margin-top-bottom-2'})\n",
    "# #     for extract_plans in extract_plans:\n",
    "# #         aa = extract_plans.find_all('div', {'class': 'container width-100-perc'})[0]\n",
    "\n",
    "    \n",
    "    \n",
    "    \n",
    "# #         for a in aa:   \n",
    "# #             xs_4= a.find_all('span', {'class': 'assistive-text'})\n",
    "# #             t = []\n",
    "# #             for xs_4 in xs_4:\n",
    "# #                 d1 = xs_4.text.replace(u'\\xa0', u'')\n",
    "# #                 t.append(d1)\n",
    "\n",
    "# #             allplans.append(t)\n",
    "    \n",
    "# #     all_values[\"plans\"]=list(allplans)\n",
    "# # print(df1)\n"
   ]
  },
  {
   "cell_type": "code",
   "execution_count": null,
   "metadata": {},
   "outputs": [],
   "source": []
  },
  {
   "cell_type": "code",
   "execution_count": null,
   "metadata": {},
   "outputs": [],
   "source": []
  },
  {
   "cell_type": "code",
   "execution_count": null,
   "metadata": {},
   "outputs": [],
   "source": []
  },
  {
   "cell_type": "code",
   "execution_count": 102,
   "metadata": {},
   "outputs": [
    {
     "name": "stdout",
     "output_type": "stream",
     "text": [
      "0\n",
      "1\n",
      "2\n",
      "3\n"
     ]
    },
    {
     "data": {
      "text/html": [
       "<div>\n",
       "<style scoped>\n",
       "    .dataframe tbody tr th:only-of-type {\n",
       "        vertical-align: middle;\n",
       "    }\n",
       "\n",
       "    .dataframe tbody tr th {\n",
       "        vertical-align: top;\n",
       "    }\n",
       "\n",
       "    .dataframe thead th {\n",
       "        text-align: right;\n",
       "    }\n",
       "</style>\n",
       "<table border=\"1\" class=\"dataframe\">\n",
       "  <thead>\n",
       "    <tr style=\"text-align: right;\">\n",
       "      <th></th>\n",
       "      <th>frame</th>\n",
       "      <th>count</th>\n",
       "    </tr>\n",
       "  </thead>\n",
       "  <tbody>\n",
       "    <tr>\n",
       "      <th>0</th>\n",
       "      <td>0</td>\n",
       "      <td>0</td>\n",
       "    </tr>\n",
       "    <tr>\n",
       "      <th>1</th>\n",
       "      <td>1</td>\n",
       "      <td>1</td>\n",
       "    </tr>\n",
       "    <tr>\n",
       "      <th>2</th>\n",
       "      <td>2</td>\n",
       "      <td>2</td>\n",
       "    </tr>\n",
       "    <tr>\n",
       "      <th>3</th>\n",
       "      <td>3</td>\n",
       "      <td>3</td>\n",
       "    </tr>\n",
       "  </tbody>\n",
       "</table>\n",
       "</div>"
      ],
      "text/plain": [
       "  frame count\n",
       "0     0     0\n",
       "1     1     1\n",
       "2     2     2\n",
       "3     3     3"
      ]
     },
     "execution_count": 102,
     "metadata": {},
     "output_type": "execute_result"
    }
   ],
   "source": [
    "cols = ['frame', 'count']\n",
    "N = 4\n",
    "dat = pd.DataFrame(columns = cols)\n",
    "for i in range(N):\n",
    "    print(i)\n",
    "    dat = dat.append({'frame': str(i), 'count':i},ignore_index=True)\n",
    "\n",
    "dat"
   ]
  },
  {
   "cell_type": "code",
   "execution_count": null,
   "metadata": {},
   "outputs": [],
   "source": []
  }
 ],
 "metadata": {
  "kernelspec": {
   "display_name": "Python 3",
   "language": "python",
   "name": "python3"
  },
  "language_info": {
   "codemirror_mode": {
    "name": "ipython",
    "version": 3
   },
   "file_extension": ".py",
   "mimetype": "text/x-python",
   "name": "python",
   "nbconvert_exporter": "python",
   "pygments_lexer": "ipython3",
   "version": "3.7.6"
  }
 },
 "nbformat": 4,
 "nbformat_minor": 4
}
