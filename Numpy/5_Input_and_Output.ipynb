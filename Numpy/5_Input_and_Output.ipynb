{
 "cells": [
  {
   "cell_type": "markdown",
   "metadata": {},
   "source": [
    "# Input and Output"
   ]
  },
  {
   "cell_type": "code",
   "execution_count": 1,
   "metadata": {},
   "outputs": [],
   "source": [
    "from __future__ import print_function\n",
    "import numpy as np"
   ]
  },
  {
   "cell_type": "code",
   "execution_count": 2,
   "metadata": {},
   "outputs": [],
   "source": [
    "author = \"Ganesh patil. https://github.com/ganeshpatil9766/Python/\""
   ]
  },
  {
   "cell_type": "code",
   "execution_count": 3,
   "metadata": {},
   "outputs": [
    {
     "data": {
      "text/plain": [
       "'1.18.1'"
      ]
     },
     "execution_count": 3,
     "metadata": {},
     "output_type": "execute_result"
    }
   ],
   "source": [
    "np.__version__"
   ]
  },
  {
   "cell_type": "code",
   "execution_count": 4,
   "metadata": {},
   "outputs": [
    {
     "name": "stdout",
     "output_type": "stream",
     "text": [
      "2020-12-29\n"
     ]
    }
   ],
   "source": [
    "from datetime import date\n",
    "print(date.today())"
   ]
  },
  {
   "cell_type": "markdown",
   "metadata": {},
   "source": [
    "## NumPy binary files (NPY, NPZ)"
   ]
  },
  {
   "cell_type": "markdown",
   "metadata": {},
   "source": [
    "### Q1. Save x into `temp.npy` and load it."
   ]
  },
  {
   "cell_type": "code",
   "execution_count": 5,
   "metadata": {},
   "outputs": [
    {
     "name": "stdout",
     "output_type": "stream",
     "text": [
      "True\n"
     ]
    }
   ],
   "source": [
    "x = np.arange(10)\n",
    "np.save('temp.npy', x) # Actually you can omit the extension. If so, it will be added automatically.\n",
    "\n",
    "# Check if there exists the 'temp.npy' file.\n",
    "import os\n",
    "if os.path.exists('temp.npy'):\n",
    "    x2 = np.load('temp.npy')\n",
    "    print(np.array_equal(x, x2))\n"
   ]
  },
  {
   "cell_type": "markdown",
   "metadata": {},
   "source": [
    "### Q2. Save x and y into a single file 'temp.npz' and load it."
   ]
  },
  {
   "cell_type": "code",
   "execution_count": 9,
   "metadata": {},
   "outputs": [
    {
     "name": "stdout",
     "output_type": "stream",
     "text": [
      "True\n",
      "True\n"
     ]
    }
   ],
   "source": [
    "x = np.arange(10)\n",
    "y = np.arange(11, 20)\n",
    "np.savez('temp.npz', x = x, y = y)\n",
    "\n",
    "# np.savez_compressed('temp.npz', x=x, y=y) # If you want to save x and y into a single file in compressed .npz format.\n",
    "with np.load('temp.npz') as data:\n",
    "    x2 = data['x']\n",
    "    y2 = data['y']\n",
    "    print(np.array_equal(x, x2))\n",
    "    print(np.array_equal(y, y2))\n"
   ]
  },
  {
   "cell_type": "markdown",
   "metadata": {},
   "source": [
    "## Text files"
   ]
  },
  {
   "cell_type": "markdown",
   "metadata": {},
   "source": [
    "### Q3. Save x to 'temp.txt' in string format and load it."
   ]
  },
  {
   "cell_type": "code",
   "execution_count": 12,
   "metadata": {},
   "outputs": [
    {
     "data": {
      "text/plain": [
       "array([[0., 1., 2., 3., 4.],\n",
       "       [5., 6., 7., 8., 9.]])"
      ]
     },
     "execution_count": 12,
     "metadata": {},
     "output_type": "execute_result"
    }
   ],
   "source": [
    "x = np.arange(10).reshape(2, 5)\n",
    "header = 'num1 num2 num3 num4 num5'\n",
    "np.savetxt('temp.txt', x, fmt= '%d', header= header)\n",
    "np.loadtxt('temp.txt')"
   ]
  },
  {
   "cell_type": "markdown",
   "metadata": {},
   "source": [
    "### Q4. Save `x`, `y`, and `z` to 'temp.txt' in string format line by line, then load it."
   ]
  },
  {
   "cell_type": "code",
   "execution_count": 13,
   "metadata": {},
   "outputs": [
    {
     "data": {
      "text/plain": [
       "array([[ 0.,  1.,  2.,  3.,  4.,  5.,  6.,  7.,  8.,  9.],\n",
       "       [11., 12., 13., 14., 15., 16., 17., 18., 19., 20.],\n",
       "       [22., 23., 24., 25., 26., 27., 28., 29., 30., 31.]])"
      ]
     },
     "execution_count": 13,
     "metadata": {},
     "output_type": "execute_result"
    }
   ],
   "source": [
    "x = np.arange(10)\n",
    "y = np.arange(11, 21)\n",
    "z = np.arange(22, 32)\n",
    "np.savetxt('temp.txt', (x, y, z), fmt='%d')\n",
    "np.loadtxt('temp.txt')"
   ]
  },
  {
   "cell_type": "markdown",
   "metadata": {},
   "source": [
    "### Q5. Convert `x` into bytes, and load it as array."
   ]
  },
  {
   "cell_type": "code",
   "execution_count": 15,
   "metadata": {},
   "outputs": [
    {
     "name": "stdout",
     "output_type": "stream",
     "text": [
      "True\n"
     ]
    },
    {
     "name": "stderr",
     "output_type": "stream",
     "text": [
      "C:\\Users\\Owner\\anaconda3\\lib\\site-packages\\ipykernel_launcher.py:3: DeprecationWarning: The binary mode of fromstring is deprecated, as it behaves surprisingly on unicode inputs. Use frombuffer instead\n",
      "  This is separate from the ipykernel package so we can avoid doing imports until\n"
     ]
    }
   ],
   "source": [
    "x = np.array([1, 2, 3, 4])\n",
    "x_bytes = x.tostring() # Don't be misled by the function name. What it really does is it returns bytes.\n",
    "x2 = np.fromstring(x_bytes, dtype=x.dtype) # returns a 1-D array even if x is not.\n",
    "print(np.array_equal(x, x2))\n"
   ]
  },
  {
   "cell_type": "code",
   "execution_count": 16,
   "metadata": {},
   "outputs": [
    {
     "data": {
      "text/plain": [
       "b'\\x01\\x00\\x00\\x00\\x02\\x00\\x00\\x00\\x03\\x00\\x00\\x00\\x04\\x00\\x00\\x00'"
      ]
     },
     "execution_count": 16,
     "metadata": {},
     "output_type": "execute_result"
    }
   ],
   "source": [
    "x.tostring()\n"
   ]
  },
  {
   "cell_type": "markdown",
   "metadata": {},
   "source": [
    "### Q6. Convert `a` into an ndarray and then convert it into a list again."
   ]
  },
  {
   "cell_type": "code",
   "execution_count": 19,
   "metadata": {},
   "outputs": [
    {
     "name": "stdout",
     "output_type": "stream",
     "text": [
      "True\n"
     ]
    }
   ],
   "source": [
    "a = [[1, 2], [3, 4]]\n",
    "x = np.array(a)\n",
    "a2 = x.tolist()\n",
    "print(a == a2)"
   ]
  },
  {
   "cell_type": "code",
   "execution_count": 20,
   "metadata": {},
   "outputs": [
    {
     "data": {
      "text/plain": [
       "array([[1, 2],\n",
       "       [3, 4]])"
      ]
     },
     "execution_count": 20,
     "metadata": {},
     "output_type": "execute_result"
    }
   ],
   "source": [
    "x = np.array(a)\n",
    "x"
   ]
  },
  {
   "cell_type": "code",
   "execution_count": 21,
   "metadata": {},
   "outputs": [
    {
     "data": {
      "text/plain": [
       "[[1, 2], [3, 4]]"
      ]
     },
     "execution_count": 21,
     "metadata": {},
     "output_type": "execute_result"
    }
   ],
   "source": [
    "a2 = x.tolist()\n",
    "a2"
   ]
  },
  {
   "cell_type": "markdown",
   "metadata": {},
   "source": [
    "## String formatting¶"
   ]
  },
  {
   "cell_type": "markdown",
   "metadata": {},
   "source": [
    "### Q7. Convert `x` to a string, and revert it."
   ]
  },
  {
   "cell_type": "code",
   "execution_count": 22,
   "metadata": {},
   "outputs": [
    {
     "name": "stdout",
     "output_type": "stream",
     "text": [
      "[[0 1 2 3 4]\n",
      " [5 6 7 8 9]]\n",
      "[[0 1 2 3 4]\n",
      " [5 6 7 8 9]]\n"
     ]
    }
   ],
   "source": [
    "x = np.arange(10).reshape(2,5)\n",
    "x_str = np.array_str(x)\n",
    "print(x)\n",
    "print(x_str)"
   ]
  },
  {
   "cell_type": "code",
   "execution_count": 23,
   "metadata": {},
   "outputs": [
    {
     "name": "stdout",
     "output_type": "stream",
     "text": [
      "[[0 1 2 3 4]\n",
      " [5 6 7 8 9]] \n",
      " <class 'str'>\n"
     ]
    }
   ],
   "source": [
    "print(x_str, \"\\n\", type(x_str))"
   ]
  },
  {
   "cell_type": "code",
   "execution_count": 24,
   "metadata": {},
   "outputs": [
    {
     "data": {
      "text/plain": [
       "'0 1 2 3 4\\n 5 6 7 8 9'"
      ]
     },
     "execution_count": 24,
     "metadata": {},
     "output_type": "execute_result"
    }
   ],
   "source": [
    "x_str = x_str.replace(\"[\", \"\") # [] must be stripped\n",
    "x_str = x_str.replace(\"]\", \"\")\n",
    "x_str"
   ]
  },
  {
   "cell_type": "code",
   "execution_count": 27,
   "metadata": {},
   "outputs": [
    {
     "data": {
      "text/plain": [
       "array([[0, 1, 2, 3, 4],\n",
       "       [5, 6, 7, 8, 9]])"
      ]
     },
     "execution_count": 27,
     "metadata": {},
     "output_type": "execute_result"
    }
   ],
   "source": [
    "x2 = np.fromstring(x_str, dtype=x.dtype, sep=\" \").reshape(x.shape)\n",
    "assert np.array_equal(x, x2)\n",
    "x2"
   ]
  },
  {
   "cell_type": "markdown",
   "metadata": {},
   "source": [
    "## Text formatting options"
   ]
  },
  {
   "cell_type": "markdown",
   "metadata": {},
   "source": [
    "### Q8. Print `x` such that all elements are displayed with precision=1, no suppress."
   ]
  },
  {
   "cell_type": "code",
   "execution_count": 33,
   "metadata": {},
   "outputs": [
    {
     "data": {
      "text/plain": [
       "array([[0.5, 0.1, 0.2, 0.6, 0.1, 0.2, 0.1, 0.9, 0.2, 0.2, 0.7, 0.4, 0. ,\n",
       "        0.3, 1. , 0.9, 0.5, 0.8, 0.8, 0.8, 0.6, 0.6, 0.9, 0.6, 0.2, 0.8,\n",
       "        0.5, 0.8, 0.7, 0.9, 0.8, 0.6, 0.4, 0. , 0.8, 0.9, 0.5, 0.5, 0.8,\n",
       "        0. , 0.1, 0.1, 0.2, 0. , 0.9, 0.5, 0.8, 0.6, 0.5, 0.2, 0.2, 0.2,\n",
       "        0. , 0.6, 0.6, 0.2, 0.7, 0.7, 0.4, 0.1, 0.2, 0.6, 0.7, 0.2, 0.7,\n",
       "        0.3, 0.4, 0.5, 0.2, 0.2, 0.9, 0.8, 1. , 0.6, 0.3, 0.2, 0.3, 0.8,\n",
       "        0.4, 0.2, 0.9, 0.9, 0.3, 0.9, 0.7, 0.7, 0.7, 0. , 0.9, 0.7, 0.8,\n",
       "        0.4, 0. , 0.6, 0.8, 0.5, 0.5, 0. , 0.5, 0.5],\n",
       "       [0.8, 0.4, 0. , 0.7, 0.1, 0.8, 0.4, 1. , 1. , 0.8, 0.9, 0.8, 0.8,\n",
       "        0.5, 0.2, 0.4, 0.3, 0.6, 0.5, 0. , 0.4, 0. , 0.5, 0. , 0.7, 0.5,\n",
       "        1. , 0.6, 0.1, 0.3, 0.7, 0.4, 0.6, 0.4, 0.5, 0.5, 0.8, 0.9, 0.4,\n",
       "        0.3, 1. , 0.3, 0.9, 0.9, 0.9, 0.1, 0.7, 0.6, 0.4, 0.9, 0.3, 0.7,\n",
       "        0.2, 0.6, 0.2, 0.6, 0.4, 0.2, 0.4, 0.2, 0.4, 1. , 0.3, 0.3, 0.4,\n",
       "        0.6, 0.1, 0.1, 0. , 0.3, 0. , 0.9, 0.3, 0.6, 0. , 0.6, 0.8, 1. ,\n",
       "        0.5, 0.2, 0.5, 0.4, 0.5, 0.7, 0.4, 0.6, 0.6, 0.5, 0.1, 1. , 0.7,\n",
       "        0.6, 0.7, 0.1, 0.8, 0.7, 0.9, 0.6, 0.5, 0.6],\n",
       "       [0.5, 0.3, 0.3, 0.5, 0.8, 0.7, 0.3, 0.6, 0.5, 0.2, 0.3, 0.2, 0.6,\n",
       "        0.2, 0.2, 0.4, 0.5, 0.4, 0.5, 0.2, 0.4, 0.1, 0.8, 0.5, 0.5, 0.9,\n",
       "        0.8, 0.4, 0.7, 0.8, 0.5, 0.6, 0.5, 0.8, 0.6, 0.8, 0.7, 0.3, 0.8,\n",
       "        1. , 0.4, 0.4, 0. , 0.3, 0.9, 0.5, 1. , 0.2, 0.1, 0. , 0.6, 0.5,\n",
       "        0.8, 0.3, 0.5, 0.5, 0.9, 0.2, 0.2, 0.5, 0.7, 0.3, 0.5, 0.7, 0.5,\n",
       "        0.4, 0.3, 0.6, 0.9, 0.2, 0.5, 0.1, 0.5, 0.9, 0.7, 0.1, 0.1, 0.1,\n",
       "        0.1, 0.7, 0.8, 0.5, 0. , 0.4, 0.5, 0.4, 0.5, 0.4, 0.9, 1. , 0.7,\n",
       "        0.3, 0. , 0.5, 0.9, 1. , 1. , 0.6, 1. , 0.5],\n",
       "       [0.7, 0.6, 0.6, 0.2, 0.6, 0.5, 0.6, 0.4, 0.7, 0.9, 0.6, 0.6, 0.4,\n",
       "        0.5, 0.5, 1. , 0.7, 0.9, 0.3, 0.4, 0.4, 0.7, 0.4, 0.8, 0.6, 0.2,\n",
       "        1. , 0.3, 0.5, 0.3, 0.4, 0.8, 0.6, 0.6, 0.4, 0.3, 0.7, 0.5, 0.4,\n",
       "        0.1, 0.9, 0.6, 0.5, 0. , 0.9, 0.2, 0.9, 1. , 0.1, 0.2, 0.3, 0.2,\n",
       "        0.8, 1. , 0.1, 0.8, 0.6, 0.5, 0.1, 0.4, 0.6, 0.1, 0.5, 0.6, 0.3,\n",
       "        0.5, 0.1, 0.7, 0.7, 0.5, 0.1, 0.4, 0.8, 0.3, 0.2, 0.6, 0.7, 0.3,\n",
       "        0.8, 0.6, 0.6, 0.8, 0.5, 0.5, 0.3, 0.3, 0.3, 0. , 0.6, 0.1, 1. ,\n",
       "        0.5, 0.7, 0.1, 0.1, 0.9, 0.1, 0.6, 0.4, 0.1],\n",
       "       [0.9, 0.8, 0.7, 0.2, 0.7, 0.3, 0.6, 0.8, 0. , 0.6, 0.2, 0.2, 0.6,\n",
       "        0.5, 0. , 0. , 0.7, 0.3, 0.8, 0.4, 0. , 0.1, 0.8, 0.1, 0. , 0.5,\n",
       "        0.8, 0.1, 0.1, 0.3, 0.1, 0.3, 0.2, 0.7, 1. , 0. , 0.8, 0.8, 0.4,\n",
       "        0.4, 1. , 0.7, 0.3, 0.5, 0.6, 0.2, 0.2, 0.2, 0.2, 0.2, 0. , 0.8,\n",
       "        0.3, 0.3, 0.8, 0.4, 0.7, 0. , 1. , 0.3, 0.1, 0.9, 0. , 0.3, 0.9,\n",
       "        0.6, 0.4, 0.8, 0.5, 0.1, 0.4, 0.6, 0.7, 0.2, 0.2, 0.7, 0.9, 0.4,\n",
       "        1. , 0.6, 0.8, 0.5, 0. , 0.8, 0.4, 0.9, 1. , 0.9, 0.5, 0.7, 0.6,\n",
       "        0.9, 0.9, 0.7, 0.5, 0.4, 0.5, 0.7, 0.4, 0.2],\n",
       "       [0.6, 0.7, 0.3, 0. , 0.4, 0.2, 0.6, 0.9, 0.4, 0.6, 0.9, 0.6, 0.3,\n",
       "        0.6, 1. , 0.5, 0.6, 0.9, 0.8, 0.6, 0.8, 0.7, 1. , 0. , 0. , 0.1,\n",
       "        0.8, 0.9, 0.5, 0.3, 0.9, 0.8, 0.1, 0.9, 0.6, 0. , 0.3, 0.7, 0.2,\n",
       "        0.1, 0.1, 0.3, 0.6, 0.5, 0.2, 0.3, 0.9, 1. , 0.9, 0.3, 0.2, 0.9,\n",
       "        0.7, 0.3, 0.6, 0.5, 0.3, 0.2, 0.5, 0.3, 0.1, 0.5, 0.5, 0.5, 1. ,\n",
       "        0.8, 0.5, 0.8, 0.3, 0.9, 0.4, 0.6, 0.4, 0.9, 0.5, 0.6, 1. , 0.3,\n",
       "        0.3, 0.2, 0.7, 0.6, 0.4, 0.8, 0.7, 0.5, 0.6, 0.1, 0.3, 0.6, 0.5,\n",
       "        0.7, 0.3, 0.5, 0.2, 0.9, 0.1, 0.5, 0.5, 0.2],\n",
       "       [0.5, 0.3, 0.5, 0.7, 0.4, 0.9, 0.7, 0.1, 0.8, 0. , 0.8, 1. , 0.7,\n",
       "        0.5, 0.5, 0.5, 0.8, 0.1, 0.8, 0.9, 0.8, 0.1, 0.7, 0. , 0.2, 0.9,\n",
       "        0.9, 0.7, 0.9, 0.5, 0.4, 0.9, 0.1, 0.6, 0.4, 0.2, 0.1, 0.8, 0.8,\n",
       "        0. , 0.7, 0.2, 0.4, 0.9, 0.7, 0.6, 0.7, 0.2, 0.6, 0. , 0.7, 1. ,\n",
       "        0.7, 0.3, 0.8, 0.7, 0.3, 0.9, 0.1, 0.3, 0.7, 0.4, 0.1, 0.3, 0.6,\n",
       "        0.9, 0.1, 0.2, 0.7, 0. , 0.3, 0.5, 0.5, 0.9, 0.4, 0.6, 0.2, 0.2,\n",
       "        0.7, 1. , 0.5, 0.3, 0.4, 0.3, 0.4, 0.6, 0.5, 0.9, 0.8, 0.2, 0.1,\n",
       "        1. , 0.8, 1. , 0.9, 0.8, 0.3, 0.5, 0.3, 0. ],\n",
       "       [0.7, 0.8, 0.8, 1. , 0.5, 0.9, 0.3, 0.1, 0.8, 0.2, 0. , 0. , 0.9,\n",
       "        0.4, 0.1, 1. , 0.9, 0.3, 1. , 0.8, 0.7, 0.2, 0.3, 0.2, 0.9, 0.2,\n",
       "        0.2, 0.1, 0.3, 0.4, 0.4, 1. , 0.8, 0.4, 0.1, 0.6, 0.5, 0.7, 0.9,\n",
       "        0.8, 0.5, 0.4, 0.7, 0.4, 0.6, 0.6, 0.7, 0.2, 0.8, 0.4, 0.4, 0.3,\n",
       "        1. , 0.3, 0.1, 0.1, 0.4, 0.8, 0.1, 0.4, 0.6, 0.9, 0.9, 0. , 0.2,\n",
       "        0.1, 0.8, 0.6, 0.6, 0.3, 0.1, 0.1, 0.8, 0.4, 1. , 0.9, 0.9, 0.9,\n",
       "        0.6, 0.3, 0.9, 0.3, 0.8, 0.1, 0.7, 0.5, 1. , 0.9, 0.1, 0.4, 0. ,\n",
       "        0.2, 0.9, 0.6, 0.5, 0.7, 0.4, 0.4, 0.4, 0.5],\n",
       "       [1. , 0. , 0.9, 0.1, 0.7, 0.9, 0.9, 0. , 0.5, 0.4, 0.9, 0.8, 0. ,\n",
       "        0.5, 0.2, 0.4, 0.7, 0.6, 0. , 0.3, 0.2, 0.1, 0.4, 0.8, 0.1, 0.7,\n",
       "        0.4, 0.6, 0.3, 0.1, 0.7, 1. , 0.2, 0.1, 0.7, 0.1, 0.8, 0.9, 0.7,\n",
       "        0.4, 0.6, 0.7, 0.5, 0.4, 0.5, 0.4, 0.6, 0.1, 1. , 0.9, 0.8, 0.9,\n",
       "        0.6, 1. , 0.4, 0.5, 0. , 0.1, 0.3, 0.2, 0.4, 0.2, 0.2, 0.5, 0.3,\n",
       "        0.4, 0.9, 0.3, 0.8, 0.1, 0.9, 0.3, 1. , 0.3, 0.9, 0.9, 0.2, 0.4,\n",
       "        0.5, 0.5, 0.5, 0.9, 0.8, 0.8, 0.2, 0.4, 0.1, 0.1, 0.2, 0.2, 0.4,\n",
       "        1. , 0.8, 0.3, 0.3, 0.5, 0.9, 0.2, 1. , 0.1],\n",
       "       [0.9, 0.1, 0.3, 0.3, 0.3, 0.4, 0.2, 0.3, 0.5, 0.3, 0.9, 0.5, 0.9,\n",
       "        0.9, 0.2, 0.2, 0.4, 0.8, 0.1, 0. , 0.8, 0.2, 0.1, 0.8, 0.4, 0.8,\n",
       "        0. , 0.8, 1. , 0.6, 0.9, 0.7, 0.6, 0.8, 0.8, 0.2, 0. , 0.2, 0.3,\n",
       "        0.3, 0.3, 0.4, 0.9, 0.9, 0.3, 0.9, 0.8, 0.7, 0.3, 0.3, 0.9, 0.3,\n",
       "        0.3, 0.8, 0.5, 0.8, 0.2, 0.7, 0.7, 0.4, 0.8, 0.4, 0.4, 0.9, 0.4,\n",
       "        0.9, 1. , 0.2, 0.9, 1. , 0.4, 1. , 0.1, 0.5, 1. , 0.5, 0.8, 0.9,\n",
       "        0.1, 0.9, 0.4, 0.3, 0. , 0.1, 0.1, 0.6, 0.2, 0.3, 0.5, 0.8, 0.2,\n",
       "        0.7, 0.8, 0.6, 0.6, 0.3, 0. , 0.4, 0.7, 0.9]])"
      ]
     },
     "execution_count": 33,
     "metadata": {},
     "output_type": "execute_result"
    }
   ],
   "source": [
    "x = np.random.uniform(size=[10,100])\n",
    "x"
   ]
  },
  {
   "cell_type": "code",
   "execution_count": 34,
   "metadata": {},
   "outputs": [
    {
     "name": "stdout",
     "output_type": "stream",
     "text": [
      "[[0.5 0.1 0.2 0.6 0.1 0.2 0.1 0.9 0.2 0.2 0.7 0.4 0.  0.3 1.  0.9 0.5 0.8\n",
      "  0.8 0.8 0.6 0.6 0.9 0.6 0.2 0.8 0.5 0.8 0.7 0.9 0.8 0.6 0.4 0.  0.8 0.9\n",
      "  0.5 0.5 0.8 0.  0.1 0.1 0.2 0.  0.9 0.5 0.8 0.6 0.5 0.2 0.2 0.2 0.  0.6\n",
      "  0.6 0.2 0.7 0.7 0.4 0.1 0.2 0.6 0.7 0.2 0.7 0.3 0.4 0.5 0.2 0.2 0.9 0.8\n",
      "  1.  0.6 0.3 0.2 0.3 0.8 0.4 0.2 0.9 0.9 0.3 0.9 0.7 0.7 0.7 0.  0.9 0.7\n",
      "  0.8 0.4 0.  0.6 0.8 0.5 0.5 0.  0.5 0.5]\n",
      " [0.8 0.4 0.  0.7 0.1 0.8 0.4 1.  1.  0.8 0.9 0.8 0.8 0.5 0.2 0.4 0.3 0.6\n",
      "  0.5 0.  0.4 0.  0.5 0.  0.7 0.5 1.  0.6 0.1 0.3 0.7 0.4 0.6 0.4 0.5 0.5\n",
      "  0.8 0.9 0.4 0.3 1.  0.3 0.9 0.9 0.9 0.1 0.7 0.6 0.4 0.9 0.3 0.7 0.2 0.6\n",
      "  0.2 0.6 0.4 0.2 0.4 0.2 0.4 1.  0.3 0.3 0.4 0.6 0.1 0.1 0.  0.3 0.  0.9\n",
      "  0.3 0.6 0.  0.6 0.8 1.  0.5 0.2 0.5 0.4 0.5 0.7 0.4 0.6 0.6 0.5 0.1 1.\n",
      "  0.7 0.6 0.7 0.1 0.8 0.7 0.9 0.6 0.5 0.6]\n",
      " [0.5 0.3 0.3 0.5 0.8 0.7 0.3 0.6 0.5 0.2 0.3 0.2 0.6 0.2 0.2 0.4 0.5 0.4\n",
      "  0.5 0.2 0.4 0.1 0.8 0.5 0.5 0.9 0.8 0.4 0.7 0.8 0.5 0.6 0.5 0.8 0.6 0.8\n",
      "  0.7 0.3 0.8 1.  0.4 0.4 0.  0.3 0.9 0.5 1.  0.2 0.1 0.  0.6 0.5 0.8 0.3\n",
      "  0.5 0.5 0.9 0.2 0.2 0.5 0.7 0.3 0.5 0.7 0.5 0.4 0.3 0.6 0.9 0.2 0.5 0.1\n",
      "  0.5 0.9 0.7 0.1 0.1 0.1 0.1 0.7 0.8 0.5 0.  0.4 0.5 0.4 0.5 0.4 0.9 1.\n",
      "  0.7 0.3 0.  0.5 0.9 1.  1.  0.6 1.  0.5]\n",
      " [0.7 0.6 0.6 0.2 0.6 0.5 0.6 0.4 0.7 0.9 0.6 0.6 0.4 0.5 0.5 1.  0.7 0.9\n",
      "  0.3 0.4 0.4 0.7 0.4 0.8 0.6 0.2 1.  0.3 0.5 0.3 0.4 0.8 0.6 0.6 0.4 0.3\n",
      "  0.7 0.5 0.4 0.1 0.9 0.6 0.5 0.  0.9 0.2 0.9 1.  0.1 0.2 0.3 0.2 0.8 1.\n",
      "  0.1 0.8 0.6 0.5 0.1 0.4 0.6 0.1 0.5 0.6 0.3 0.5 0.1 0.7 0.7 0.5 0.1 0.4\n",
      "  0.8 0.3 0.2 0.6 0.7 0.3 0.8 0.6 0.6 0.8 0.5 0.5 0.3 0.3 0.3 0.  0.6 0.1\n",
      "  1.  0.5 0.7 0.1 0.1 0.9 0.1 0.6 0.4 0.1]\n",
      " [0.9 0.8 0.7 0.2 0.7 0.3 0.6 0.8 0.  0.6 0.2 0.2 0.6 0.5 0.  0.  0.7 0.3\n",
      "  0.8 0.4 0.  0.1 0.8 0.1 0.  0.5 0.8 0.1 0.1 0.3 0.1 0.3 0.2 0.7 1.  0.\n",
      "  0.8 0.8 0.4 0.4 1.  0.7 0.3 0.5 0.6 0.2 0.2 0.2 0.2 0.2 0.  0.8 0.3 0.3\n",
      "  0.8 0.4 0.7 0.  1.  0.3 0.1 0.9 0.  0.3 0.9 0.6 0.4 0.8 0.5 0.1 0.4 0.6\n",
      "  0.7 0.2 0.2 0.7 0.9 0.4 1.  0.6 0.8 0.5 0.  0.8 0.4 0.9 1.  0.9 0.5 0.7\n",
      "  0.6 0.9 0.9 0.7 0.5 0.4 0.5 0.7 0.4 0.2]\n",
      " [0.6 0.7 0.3 0.  0.4 0.2 0.6 0.9 0.4 0.6 0.9 0.6 0.3 0.6 1.  0.5 0.6 0.9\n",
      "  0.8 0.6 0.8 0.7 1.  0.  0.  0.1 0.8 0.9 0.5 0.3 0.9 0.8 0.1 0.9 0.6 0.\n",
      "  0.3 0.7 0.2 0.1 0.1 0.3 0.6 0.5 0.2 0.3 0.9 1.  0.9 0.3 0.2 0.9 0.7 0.3\n",
      "  0.6 0.5 0.3 0.2 0.5 0.3 0.1 0.5 0.5 0.5 1.  0.8 0.5 0.8 0.3 0.9 0.4 0.6\n",
      "  0.4 0.9 0.5 0.6 1.  0.3 0.3 0.2 0.7 0.6 0.4 0.8 0.7 0.5 0.6 0.1 0.3 0.6\n",
      "  0.5 0.7 0.3 0.5 0.2 0.9 0.1 0.5 0.5 0.2]\n",
      " [0.5 0.3 0.5 0.7 0.4 0.9 0.7 0.1 0.8 0.  0.8 1.  0.7 0.5 0.5 0.5 0.8 0.1\n",
      "  0.8 0.9 0.8 0.1 0.7 0.  0.2 0.9 0.9 0.7 0.9 0.5 0.4 0.9 0.1 0.6 0.4 0.2\n",
      "  0.1 0.8 0.8 0.  0.7 0.2 0.4 0.9 0.7 0.6 0.7 0.2 0.6 0.  0.7 1.  0.7 0.3\n",
      "  0.8 0.7 0.3 0.9 0.1 0.3 0.7 0.4 0.1 0.3 0.6 0.9 0.1 0.2 0.7 0.  0.3 0.5\n",
      "  0.5 0.9 0.4 0.6 0.2 0.2 0.7 1.  0.5 0.3 0.4 0.3 0.4 0.6 0.5 0.9 0.8 0.2\n",
      "  0.1 1.  0.8 1.  0.9 0.8 0.3 0.5 0.3 0. ]\n",
      " [0.7 0.8 0.8 1.  0.5 0.9 0.3 0.1 0.8 0.2 0.  0.  0.9 0.4 0.1 1.  0.9 0.3\n",
      "  1.  0.8 0.7 0.2 0.3 0.2 0.9 0.2 0.2 0.1 0.3 0.4 0.4 1.  0.8 0.4 0.1 0.6\n",
      "  0.5 0.7 0.9 0.8 0.5 0.4 0.7 0.4 0.6 0.6 0.7 0.2 0.8 0.4 0.4 0.3 1.  0.3\n",
      "  0.1 0.1 0.4 0.8 0.1 0.4 0.6 0.9 0.9 0.  0.2 0.1 0.8 0.6 0.6 0.3 0.1 0.1\n",
      "  0.8 0.4 1.  0.9 0.9 0.9 0.6 0.3 0.9 0.3 0.8 0.1 0.7 0.5 1.  0.9 0.1 0.4\n",
      "  0.  0.2 0.9 0.6 0.5 0.7 0.4 0.4 0.4 0.5]\n",
      " [1.  0.  0.9 0.1 0.7 0.9 0.9 0.  0.5 0.4 0.9 0.8 0.  0.5 0.2 0.4 0.7 0.6\n",
      "  0.  0.3 0.2 0.1 0.4 0.8 0.1 0.7 0.4 0.6 0.3 0.1 0.7 1.  0.2 0.1 0.7 0.1\n",
      "  0.8 0.9 0.7 0.4 0.6 0.7 0.5 0.4 0.5 0.4 0.6 0.1 1.  0.9 0.8 0.9 0.6 1.\n",
      "  0.4 0.5 0.  0.1 0.3 0.2 0.4 0.2 0.2 0.5 0.3 0.4 0.9 0.3 0.8 0.1 0.9 0.3\n",
      "  1.  0.3 0.9 0.9 0.2 0.4 0.5 0.5 0.5 0.9 0.8 0.8 0.2 0.4 0.1 0.1 0.2 0.2\n",
      "  0.4 1.  0.8 0.3 0.3 0.5 0.9 0.2 1.  0.1]\n",
      " [0.9 0.1 0.3 0.3 0.3 0.4 0.2 0.3 0.5 0.3 0.9 0.5 0.9 0.9 0.2 0.2 0.4 0.8\n",
      "  0.1 0.  0.8 0.2 0.1 0.8 0.4 0.8 0.  0.8 1.  0.6 0.9 0.7 0.6 0.8 0.8 0.2\n",
      "  0.  0.2 0.3 0.3 0.3 0.4 0.9 0.9 0.3 0.9 0.8 0.7 0.3 0.3 0.9 0.3 0.3 0.8\n",
      "  0.5 0.8 0.2 0.7 0.7 0.4 0.8 0.4 0.4 0.9 0.4 0.9 1.  0.2 0.9 1.  0.4 1.\n",
      "  0.1 0.5 1.  0.5 0.8 0.9 0.1 0.9 0.4 0.3 0.  0.1 0.1 0.6 0.2 0.3 0.5 0.8\n",
      "  0.2 0.7 0.8 0.6 0.6 0.3 0.  0.4 0.7 0.9]]\n"
     ]
    }
   ],
   "source": [
    "np.set_printoptions(precision=1,  suppress=True)\n",
    "print(x)"
   ]
  },
  {
   "cell_type": "markdown",
   "metadata": {},
   "source": [
    "## Base-n representations"
   ]
  },
  {
   "cell_type": "markdown",
   "metadata": {},
   "source": [
    "### Q9. Convert 12 into a binary number in string format."
   ]
  },
  {
   "cell_type": "code",
   "execution_count": 36,
   "metadata": {},
   "outputs": [
    {
     "data": {
      "text/plain": [
       "'1100'"
      ]
     },
     "execution_count": 36,
     "metadata": {},
     "output_type": "execute_result"
    }
   ],
   "source": [
    "np.binary_repr(12) # But out1 is better because it's much faster."
   ]
  },
  {
   "cell_type": "code",
   "execution_count": 37,
   "metadata": {},
   "outputs": [
    {
     "data": {
      "text/plain": [
       "'1100'"
      ]
     },
     "execution_count": 37,
     "metadata": {},
     "output_type": "execute_result"
    }
   ],
   "source": [
    "np.base_repr(12, base=2)"
   ]
  },
  {
   "cell_type": "markdown",
   "metadata": {},
   "source": [
    "### Q10. Convert 12 into a hexadecimal number in string format."
   ]
  },
  {
   "cell_type": "code",
   "execution_count": 42,
   "metadata": {},
   "outputs": [
    {
     "data": {
      "text/plain": [
       "'44C'"
      ]
     },
     "execution_count": 42,
     "metadata": {},
     "output_type": "execute_result"
    }
   ],
   "source": [
    "np.base_repr(1100, base=16)"
   ]
  }
 ],
 "metadata": {
  "anaconda-cloud": {},
  "kernelspec": {
   "display_name": "Python 3",
   "language": "python",
   "name": "python3"
  },
  "language_info": {
   "codemirror_mode": {
    "name": "ipython",
    "version": 3
   },
   "file_extension": ".py",
   "mimetype": "text/x-python",
   "name": "python",
   "nbconvert_exporter": "python",
   "pygments_lexer": "ipython3",
   "version": "3.7.6"
  }
 },
 "nbformat": 4,
 "nbformat_minor": 1
}
