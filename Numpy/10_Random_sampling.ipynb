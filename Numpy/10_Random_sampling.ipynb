{
 "cells": [
  {
   "cell_type": "markdown",
   "metadata": {},
   "source": [
    "# Random Sampling"
   ]
  },
  {
   "cell_type": "code",
   "execution_count": 1,
   "metadata": {},
   "outputs": [],
   "source": [
    "import numpy as np"
   ]
  },
  {
   "cell_type": "code",
   "execution_count": 2,
   "metadata": {},
   "outputs": [
    {
     "data": {
      "text/plain": [
       "'1.18.1'"
      ]
     },
     "execution_count": 2,
     "metadata": {},
     "output_type": "execute_result"
    }
   ],
   "source": [
    "np.__version__"
   ]
  },
  {
   "cell_type": "code",
   "execution_count": 3,
   "metadata": {},
   "outputs": [],
   "source": [
    "author = \"Ganesh patil. https://github.com/ganeshpatil9766/Python/\""
   ]
  },
  {
   "cell_type": "markdown",
   "metadata": {},
   "source": [
    "## Simple random data"
   ]
  },
  {
   "cell_type": "markdown",
   "metadata": {},
   "source": [
    "### Q1. Create an array of shape (3, 2) and populate it with random samples from a uniform distribution over [0, 1)."
   ]
  },
  {
   "cell_type": "code",
   "execution_count": 8,
   "metadata": {},
   "outputs": [
    {
     "data": {
      "text/plain": [
       "array([[0.8823605 , 0.36149949],\n",
       "       [0.78743262, 0.34201949],\n",
       "       [0.67915366, 0.97597698]])"
      ]
     },
     "execution_count": 8,
     "metadata": {},
     "output_type": "execute_result"
    }
   ],
   "source": [
    "np.random.rand(3,2)"
   ]
  },
  {
   "cell_type": "code",
   "execution_count": 9,
   "metadata": {},
   "outputs": [
    {
     "data": {
      "text/plain": [
       "array([[0.70076319, 0.01425742],\n",
       "       [0.07351708, 0.4753223 ],\n",
       "       [0.2775242 , 0.39898349]])"
      ]
     },
     "execution_count": 9,
     "metadata": {},
     "output_type": "execute_result"
    }
   ],
   "source": [
    "np.random.random((3,2))"
   ]
  },
  {
   "cell_type": "markdown",
   "metadata": {},
   "source": [
    "### Q2. Create an array of shape (1000, 1000) and populate it with random samples from a standard normal distribution. And verify that the mean and standard deviation is close enough to 0 and 1 repectively."
   ]
  },
  {
   "cell_type": "code",
   "execution_count": 11,
   "metadata": {},
   "outputs": [
    {
     "data": {
      "text/plain": [
       "array([[-0.09216165, -0.13916542,  0.50789047, ...,  0.59051174,\n",
       "        -1.82917205, -0.14515602],\n",
       "       [-0.91331442, -0.12068505, -1.54422287, ...,  1.61265667,\n",
       "         0.05729246, -1.45745881],\n",
       "       [-0.43173705, -1.07900465, -1.48882916, ..., -0.52298908,\n",
       "        -0.08761478, -1.11593482],\n",
       "       ...,\n",
       "       [-0.85499305,  0.55718168,  2.04434928, ...,  2.66614462,\n",
       "        -1.55124726,  0.83607278],\n",
       "       [-0.63776061, -0.48918511, -0.46244604, ..., -1.2015757 ,\n",
       "        -0.25144379,  1.23778944],\n",
       "       [ 0.09418848,  0.56501417, -0.10556209, ..., -0.85487379,\n",
       "        -2.6980557 , -0.48705938]])"
      ]
     },
     "execution_count": 11,
     "metadata": {},
     "output_type": "execute_result"
    }
   ],
   "source": [
    "np.random.randn(1000,100)"
   ]
  },
  {
   "cell_type": "code",
   "execution_count": 12,
   "metadata": {},
   "outputs": [
    {
     "data": {
      "text/plain": [
       "array([[ 0.13629517, -0.02939661, -0.20292852, ..., -0.06537827,\n",
       "         0.99179532, -0.02321   ],\n",
       "       [-0.0036398 ,  0.61824804,  1.79343048, ..., -0.27329382,\n",
       "        -0.00571154, -0.20331069],\n",
       "       [-0.72470725, -1.11010422,  0.17061965, ..., -0.91929284,\n",
       "         1.47450162, -1.27323085],\n",
       "       ...,\n",
       "       [-1.01599518, -0.85749712,  0.82145572, ...,  0.2064025 ,\n",
       "         1.91395071, -1.42168068],\n",
       "       [-0.66709849,  1.38150565, -0.0669428 , ..., -0.85390291,\n",
       "        -1.16029353,  0.45561904],\n",
       "       [-1.11251176,  1.06493862,  0.998328  , ...,  0.22125841,\n",
       "        -0.6583772 , -0.35405227]])"
      ]
     },
     "execution_count": 12,
     "metadata": {},
     "output_type": "execute_result"
    }
   ],
   "source": [
    "np.random.standard_normal((1000, 1000))"
   ]
  },
  {
   "cell_type": "code",
   "execution_count": 13,
   "metadata": {},
   "outputs": [
    {
     "data": {
      "text/plain": [
       "array([[ 1.40386308,  0.88091722, -0.45461565, ...,  0.57188434,\n",
       "         1.93746784, -0.21812772],\n",
       "       [-1.02270021, -1.36255457,  0.3225904 , ...,  0.82809532,\n",
       "         1.03402269,  0.35981213],\n",
       "       [-0.2213563 , -1.07089174, -0.55101996, ..., -0.81778764,\n",
       "        -0.30640127,  0.81740972],\n",
       "       ...,\n",
       "       [ 1.17294402,  1.40822614, -0.49981031, ...,  0.82398031,\n",
       "         0.14063916, -2.41615443],\n",
       "       [ 1.4162658 ,  1.89423089,  0.29022295, ...,  0.71143178,\n",
       "         1.34382343, -0.94355092],\n",
       "       [ 0.65837105, -0.25244046, -0.69982087, ...,  0.75025197,\n",
       "         0.63896677,  0.23738673]])"
      ]
     },
     "execution_count": 13,
     "metadata": {},
     "output_type": "execute_result"
    }
   ],
   "source": [
    "np.random.normal(loc=0.0, scale=1.0, size=(1000, 1000))"
   ]
  },
  {
   "cell_type": "code",
   "execution_count": 15,
   "metadata": {},
   "outputs": [
    {
     "name": "stdout",
     "output_type": "stream",
     "text": [
      "0.001870958544763757\n",
      "1.0003387106108044\n"
     ]
    }
   ],
   "source": [
    "out1 = np.random.randn(1000, 1000)\n",
    "out2 = np.random.standard_normal((1000, 1000))\n",
    "out3 = np.random.normal(loc=0.0, scale=1.0, size=(1000, 1000))\n",
    "assert np.allclose(np.mean(out1), np.mean(out2), atol=0.1)\n",
    "assert np.allclose(np.mean(out1), np.mean(out3), atol=0.1)\n",
    "assert np.allclose(np.std(out1), np.std(out2), atol=0.1)\n",
    "assert np.allclose(np.std(out1), np.std(out3), atol=0.1)\n",
    "print( np.mean(out3))\n",
    "print( np.std(out1))\n"
   ]
  },
  {
   "cell_type": "markdown",
   "metadata": {},
   "source": [
    "### Q3. Create an array of shape (3, 2) and populate it with random integers ranging from 0 to 3 (inclusive) from a discrete uniform distribution."
   ]
  },
  {
   "cell_type": "code",
   "execution_count": 19,
   "metadata": {},
   "outputs": [
    {
     "data": {
      "text/plain": [
       "array([[3, 2],\n",
       "       [2, 2],\n",
       "       [0, 3]])"
      ]
     },
     "execution_count": 19,
     "metadata": {},
     "output_type": "execute_result"
    }
   ],
   "source": [
    "np.random.randint(0,4, (3,2))"
   ]
  },
  {
   "cell_type": "markdown",
   "metadata": {},
   "source": [
    "### Q4. Extract 1 elements from x randomly such that each of them would be associated with probabilities .3, .5, .2. Then print the result 10 times."
   ]
  },
  {
   "cell_type": "code",
   "execution_count": 20,
   "metadata": {},
   "outputs": [
    {
     "data": {
      "text/plain": [
       "[b'3 out of 10', b'5 out of 10', b'2 out of 10']"
      ]
     },
     "execution_count": 20,
     "metadata": {},
     "output_type": "execute_result"
    }
   ],
   "source": [
    "x = [b'3 out of 10', b'5 out of 10', b'2 out of 10']\n",
    "x"
   ]
  },
  {
   "cell_type": "code",
   "execution_count": 23,
   "metadata": {},
   "outputs": [
    {
     "name": "stdout",
     "output_type": "stream",
     "text": [
      "b'2 out of 10'\n",
      "b'5 out of 10'\n",
      "b'3 out of 10'\n",
      "b'5 out of 10'\n",
      "b'2 out of 10'\n",
      "b'2 out of 10'\n",
      "b'5 out of 10'\n",
      "b'5 out of 10'\n",
      "b'3 out of 10'\n",
      "b'5 out of 10'\n"
     ]
    }
   ],
   "source": [
    "for _ in range(10):\n",
    "    print( np.random.choice(x, p=[.3, .5, .2]))"
   ]
  },
  {
   "cell_type": "markdown",
   "metadata": {},
   "source": [
    "### Q5. Extract 3 different integers from 0 to 9 randomly with the same probabilities."
   ]
  },
  {
   "cell_type": "code",
   "execution_count": 24,
   "metadata": {},
   "outputs": [
    {
     "data": {
      "text/plain": [
       "array([4, 7, 1])"
      ]
     },
     "execution_count": 24,
     "metadata": {},
     "output_type": "execute_result"
    }
   ],
   "source": [
    "np.random.choice(10, 3, replace=False)"
   ]
  },
  {
   "cell_type": "markdown",
   "metadata": {},
   "source": [
    "## Permutations"
   ]
  },
  {
   "cell_type": "markdown",
   "metadata": {},
   "source": [
    "### Q6. Shuffle numbers between 0 and 9 (inclusive)."
   ]
  },
  {
   "cell_type": "code",
   "execution_count": 27,
   "metadata": {},
   "outputs": [
    {
     "name": "stdout",
     "output_type": "stream",
     "text": [
      "[7 4 3 6 0 2 8 1 9 5]\n"
     ]
    }
   ],
   "source": [
    "x = np.arange(10)\n",
    "np.random.shuffle(x)\n",
    "print(x)"
   ]
  },
  {
   "cell_type": "code",
   "execution_count": 28,
   "metadata": {},
   "outputs": [
    {
     "data": {
      "text/plain": [
       "array([8, 1, 7, 5, 0, 9, 2, 6, 4, 3])"
      ]
     },
     "execution_count": 28,
     "metadata": {},
     "output_type": "execute_result"
    }
   ],
   "source": [
    "# Or\n",
    "np.random.permutation(10)"
   ]
  },
  {
   "cell_type": "markdown",
   "metadata": {},
   "source": [
    "## Random generator"
   ]
  },
  {
   "cell_type": "markdown",
   "metadata": {},
   "source": [
    "### Q7. Assign number 10 to the seed of the random generator so that you can get the same value next time."
   ]
  },
  {
   "cell_type": "code",
   "execution_count": 29,
   "metadata": {},
   "outputs": [],
   "source": [
    "np.random.seed(10)"
   ]
  },
  {
   "cell_type": "code",
   "execution_count": null,
   "metadata": {},
   "outputs": [],
   "source": []
  }
 ],
 "metadata": {
  "kernelspec": {
   "display_name": "Python 3",
   "language": "python",
   "name": "python3"
  },
  "language_info": {
   "codemirror_mode": {
    "name": "ipython",
    "version": 3
   },
   "file_extension": ".py",
   "mimetype": "text/x-python",
   "name": "python",
   "nbconvert_exporter": "python",
   "pygments_lexer": "ipython3",
   "version": "3.7.6"
  }
 },
 "nbformat": 4,
 "nbformat_minor": 1
}
